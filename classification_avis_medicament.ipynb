{
 "cells": [
  {
   "cell_type": "code",
   "execution_count": 1,
   "metadata": {},
   "outputs": [],
   "source": [
    "#Imports\n",
    "from nltk.tokenize import sent_tokenize, word_tokenize\n",
    "import gensim\n",
    "from gensim.models import Word2Vec\n",
    "import pandas as pd"
   ]
  },
  {
   "cell_type": "code",
   "execution_count": 3,
   "metadata": {},
   "outputs": [
    {
     "name": "stdout",
     "output_type": "stream",
     "text": [
      "   Unnamed: 0  patient_id         drugName                     condition  \\\n",
      "0           0      163740      Mirtazapine                    depression   \n",
      "1           1      206473       Mesalamine  crohn's disease, maintenance   \n",
      "2           2       39293         Contrave                   weight loss   \n",
      "3           3       97768  Cyclafem 1 / 35                 birth control   \n",
      "4           4      208087          Zyclara                     keratosis   \n",
      "\n",
      "                                              review  rating  \\\n",
      "0  \"i've tried a few antidepressants over the yea...    10.0   \n",
      "1  \"my son has crohn's disease and has done very ...     8.0   \n",
      "2  \"contrave combines drugs that were used for al...     9.0   \n",
      "3  \"i have been on this birth control for one cyc...     9.0   \n",
      "4  \"4 days in on first 2 weeks.  using on arms an...     4.0   \n",
      "\n",
      "                date  usefulCount  review_length  \n",
      "0  February 28, 2012           22             68  \n",
      "1       May 17, 2009           17             48  \n",
      "2      March 5, 2017           35            143  \n",
      "3   October 22, 2015            4            149  \n",
      "4       July 3, 2014           13             60  \n"
     ]
    }
   ],
   "source": [
    "rev = pd.read_csv(\"./dataset/sujet 1-2 drug_review_test.csv\")\n",
    "print(rev.head())"
   ]
  },
  {
   "cell_type": "code",
   "execution_count": 4,
   "metadata": {},
   "outputs": [],
   "source": [
    "corpus_text = 'n'.join(rev[:1000]['review'])\n",
    "data = []\n",
    "# iterate through each sentence in the file\n",
    "for i in sent_tokenize(corpus_text):\n",
    "    temp = []\n",
    "    # tokenize the sentence into words\n",
    "    for j in word_tokenize(i):\n",
    "        temp.append(j.lower())\n",
    "    data.append(temp)"
   ]
  },
  {
   "cell_type": "code",
   "execution_count": 5,
   "metadata": {},
   "outputs": [],
   "source": [
    "model1 = gensim.models.Word2Vec(data, min_count = 1, window = 5, sg = 0) \n",
    "model2 = gensim.models.Word2Vec(data, min_count = 1, window = 5, sg = 1)"
   ]
  }
 ],
 "metadata": {
  "kernelspec": {
   "display_name": "Python 3",
   "language": "python",
   "name": "python3"
  },
  "language_info": {
   "codemirror_mode": {
    "name": "ipython",
    "version": 3
   },
   "file_extension": ".py",
   "mimetype": "text/x-python",
   "name": "python",
   "nbconvert_exporter": "python",
   "pygments_lexer": "ipython3",
   "version": "3.11.10"
  }
 },
 "nbformat": 4,
 "nbformat_minor": 2
}
